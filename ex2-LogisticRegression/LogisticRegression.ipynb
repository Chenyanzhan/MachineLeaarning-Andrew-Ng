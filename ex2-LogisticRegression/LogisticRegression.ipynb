{
 "cells": [
  {
   "cell_type": "markdown",
   "metadata": {},
   "source": [
    "# Logistic Regression进行二分类"
   ]
  },
  {
   "cell_type": "markdown",
   "metadata": {},
   "source": [
    "## 1.简单线性二分类 划分平面在几何上是直线"
   ]
  },
  {
   "cell_type": "code",
   "execution_count": 1,
   "metadata": {},
   "outputs": [],
   "source": [
    "import pandas as pd\n",
    "import numpy as np\n",
    "import matplotlib.pyplot as plt\n"
   ]
  },
  {
   "cell_type": "code",
   "execution_count": 20,
   "metadata": {},
   "outputs": [
    {
     "data": {
      "image/png": "[encoded data removed]",
      "text/plain": [
       "<Figure size 432x288 with 1 Axes>"
      ]
     },
     "metadata": {
      "needs_background": "light"
     },
     "output_type": "display_data"
    }
   ],
   "source": [
    "def plotData(filePath,train=False,theta=None):\n",
    "    data = pd.read_csv(filePath,sep=',',header=None)\n",
    "    gb = data.groupby(data.iloc[:,-1]) #利用groupby对数据集进行拆分\n",
    "    for category in list(gb):\n",
    "        label = category[0]\n",
    "        if label == 0:\n",
    "            name = 'Not Admitted'\n",
    "            shape = '.'\n",
    "        else:\n",
    "            name = 'Admitted'\n",
    "            shape = '+'\n",
    "        plt.scatter(category[1].iloc[:,0],category[1].iloc[:,1],marker=shape,label=name)\n",
    "    \n",
    "    if train == True:\n",
    "        x = np.linspace(data.iloc[:,0].values.min(),data.iloc[:,0].values.max(),num=10)\n",
    "        y = -(theta[0]/theta[1])*x - theta[2]/theta[1]\n",
    "        plt.plot(x,y)\n",
    "\n",
    "    plt.legend()\n",
    "    plt.xlabel('Exam 1 score')\n",
    "    plt.ylabel('Exam 2 score')\n",
    "    plt.show()\n",
    "    return None\n",
    "\n",
    "filePath = './ex2data1.txt'\n",
    "plotData(filePath)"
   ]
  },
  {
   "cell_type": "code",
   "execution_count": 3,
   "metadata": {},
   "outputs": [
    {
     "data": {
      "text/plain": [
       "0.5"
      ]
     },
     "execution_count": 3,
     "metadata": {},
     "output_type": "execute_result"
    }
   ],
   "source": [
    "def sigmoid(x):\n",
    "    return 1/(1+np.exp(-x))\n",
    "\n",
    "sigmoid(0)"
   ]
  },
  {
   "cell_type": "code",
   "execution_count": 8,
   "metadata": {},
   "outputs": [],
   "source": [
    "data = pd.read_csv('./ex2data1.txt',sep=',',header=None)\n",
    "X = data.iloc[:,:-1].values\n",
    "m,n = X.shape\n",
    "y = data.iloc[:,-1].values.reshape(-1,1)\n",
    "theta = np.zeros(n+1) #[theta0,theta1,b] 为了后面使用scipy库，使用1维向量\n",
    "X = np.c_[X,np.ones((m,1))] #扩充偏差b"
   ]
  },
  {
   "cell_type": "code",
   "execution_count": 10,
   "metadata": {},
   "outputs": [
    {
     "data": {
      "text/plain": [
       "array([0.69314718])"
      ]
     },
     "execution_count": 10,
     "metadata": {},
     "output_type": "execute_result"
    }
   ],
   "source": [
    "#损失函数\n",
    "def costFunction(theta, X, y):\n",
    "    m = X.shape[0]\n",
    "    y_pre = sigmoid(np.dot(X,theta))\n",
    "    temp1 = np.dot(y.T,np.log(y_pre))*(-1/m)\n",
    "    temp2 = np.dot((1-y).T,np.log(1-y_pre))*(-1/m)\n",
    "    return temp1+temp2\n",
    "\n",
    "costFunction(theta, X, y)"
   ]
  },
  {
   "cell_type": "code",
   "execution_count": 13,
   "metadata": {},
   "outputs": [
    {
     "data": {
      "text/plain": [
       "array([-12.00921659, -11.26284221,  -0.1       ])"
      ]
     },
     "execution_count": 13,
     "metadata": {},
     "output_type": "execute_result"
    }
   ],
   "source": [
    "#梯度\n",
    "def gradient(theta,X,y):\n",
    "    m,n = X.shape\n",
    "    theta = theta.reshape(-1,1)\n",
    "    y_pre = sigmoid(np.dot(X,theta))\n",
    "    grad = np.dot(X.T,(y_pre-y))/m   # n*1的array\n",
    "    return grad.flatten()\n",
    "gradient(theta,X,y)"
   ]
  },
  {
   "cell_type": "code",
   "execution_count": 18,
   "metadata": {},
   "outputs": [
    {
     "name": "stdout",
     "output_type": "stream",
     "text": [
      "     fun: array([0.2034977])\n",
      "     jac: array([1.16974540e-07, 4.86313263e-07, 9.34508114e-09])\n",
      " message: 'Local minimum reached (|pg| ~= 0)'\n",
      "    nfev: 36\n",
      "     nit: 17\n",
      "  status: 0\n",
      " success: True\n",
      "       x: array([  0.20623159,   0.20147149, -25.16131852])\n"
     ]
    }
   ],
   "source": [
    "import scipy.optimize as op\n",
    "# 采用scipy优化库进行优化求解\n",
    "def soverOpt(X,y,theta):\n",
    "    result = op.minimize(fun=costFunction,x0=theta,args=(X,y),method='TNC',jac=gradient)\n",
    "    print(result)\n",
    "    return result\n",
    "\n",
    "result = soverOpt(X,y,theta)\n",
    "bestTheta = result['x']\n",
    "\n",
    "    \n"
   ]
  },
  {
   "cell_type": "code",
   "execution_count": 21,
   "metadata": {},
   "outputs": [
    {
     "data": {
      "image/png": "[encoded data removed]",
      "text/plain": [
       "<Figure size 432x288 with 1 Axes>"
      ]
     },
     "metadata": {
      "needs_background": "light"
     },
     "output_type": "display_data"
    }
   ],
   "source": [
    "# scipy 优化之后的结果可视化\n",
    "plotData(filePath,train=True,theta=bestTheta)"
   ]
  },
  {
   "cell_type": "code",
   "execution_count": null,
   "metadata": {},
   "outputs": [],
   "source": []
  }
 ],
 "metadata": {
  "interpreter": {
   "hash": "10beb05de3dc99447179c3813fcfbebfa66d78d6ae2c13e80a2a44d4fa76153f"
  },
  "kernelspec": {
   "display_name": "Python 3.7.8 64-bit ('mathmodeling': conda)",
   "language": "python",
   "name": "python3"
  },
  "language_info": {
   "codemirror_mode": {
    "name": "ipython",
    "version": 3
   },
   "file_extension": ".py",
   "mimetype": "text/x-python",
   "name": "python",
   "nbconvert_exporter": "python",
   "pygments_lexer": "ipython3",
   "version": "3.7.8"
  },
  "orig_nbformat": 4
 },
 "nbformat": 4,
 "nbformat_minor": 2
}
