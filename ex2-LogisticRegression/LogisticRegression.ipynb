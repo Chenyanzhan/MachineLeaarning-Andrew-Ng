{
 "cells": [
  {
   "cell_type": "markdown",
   "metadata": {},
   "source": [
    "# Logistic Regression进行二分类"
   ]
  },
  {
   "cell_type": "markdown",
   "metadata": {},
   "source": [
    "## 1.简单线性二分类 划分平面在几何上是直线"
   ]
  },
  {
   "cell_type": "code",
   "execution_count": 1,
   "metadata": {},
   "outputs": [],
   "source": [
    "import pandas as pd\n",
    "import numpy as np\n",
    "import matplotlib.pyplot as plt\n"
   ]
  },
  {
   "cell_type": "code",
   "execution_count": 2,
   "metadata": {},
   "outputs": [
    {
     "data": {
      "image/png": "[encoded data removed]",
      "text/plain": [
       "<Figure size 432x288 with 1 Axes>"
      ]
     },
     "metadata": {
      "needs_background": "light"
     },
     "output_type": "display_data"
    }
   ],
   "source": [
    "def plotData(filePath,train=False,theta=None):\n",
    "    data = pd.read_csv(filePath,sep=',',header=None)\n",
    "    gb = data.groupby(data.iloc[:,-1]) #利用groupby对数据集进行拆分\n",
    "    for category in list(gb):\n",
    "        label = category[0]\n",
    "        if label == 0:\n",
    "            name = 'Not Admitted'\n",
    "            shape = '.'\n",
    "        else:\n",
    "            name = 'Admitted'\n",
    "            shape = '+'\n",
    "        plt.scatter(category[1].iloc[:,0],category[1].iloc[:,1],marker=shape,label=name)\n",
    "    \n",
    "    if train == True:\n",
    "        x = np.linspace(data.iloc[:,0].values.min(),data.iloc[:,0].values.max(),num=10)\n",
    "        y = -(theta[0]/theta[1])*x - theta[2]/theta[1]\n",
    "        plt.plot(x,y)\n",
    "\n",
    "    plt.legend()\n",
    "    plt.xlabel('Exam 1 score')\n",
    "    plt.ylabel('Exam 2 score')\n",
    "    plt.show()\n",
    "    return None\n",
    "\n",
    "filePath = './ex2data1.txt'\n",
    "plotData(filePath)"
   ]
  },
  {
   "cell_type": "code",
   "execution_count": 3,
   "metadata": {},
   "outputs": [
    {
     "data": {
      "text/plain": [
       "0.5"
      ]
     },
     "execution_count": 3,
     "metadata": {},
     "output_type": "execute_result"
    }
   ],
   "source": [
    "def sigmoid(x):\n",
    "    return 1/(1+np.exp(-x))\n",
    "\n",
    "sigmoid(0)"
   ]
  },
  {
   "cell_type": "code",
   "execution_count": 4,
   "metadata": {},
   "outputs": [],
   "source": [
    "data = pd.read_csv('./ex2data1.txt',sep=',',header=None)\n",
    "X = data.iloc[:,:-1].values\n",
    "m,n = X.shape\n",
    "y = data.iloc[:,-1].values.reshape(-1,1)\n",
    "theta = np.zeros(n+1) #[theta0,theta1,b] 为了后面使用scipy库，使用1维向量\n",
    "X = np.c_[X,np.ones((m,1))] #扩充偏差b"
   ]
  },
  {
   "cell_type": "code",
   "execution_count": 5,
   "metadata": {},
   "outputs": [
    {
     "data": {
      "text/plain": [
       "array([0.69314718])"
      ]
     },
     "execution_count": 5,
     "metadata": {},
     "output_type": "execute_result"
    }
   ],
   "source": [
    "#损失函数\n",
    "def costFunction(theta, X, y):\n",
    "    m = X.shape[0]\n",
    "    y_pre = sigmoid(np.dot(X,theta))\n",
    "    temp1 = np.dot(y.T,np.log(y_pre))*(-1/m)\n",
    "    temp2 = np.dot((1-y).T,np.log(1-y_pre))*(-1/m)\n",
    "    return temp1+temp2\n",
    "\n",
    "costFunction(theta, X, y)"
   ]
  },
  {
   "cell_type": "code",
   "execution_count": 6,
   "metadata": {},
   "outputs": [
    {
     "data": {
      "text/plain": [
       "array([-12.00921659, -11.26284221,  -0.1       ])"
      ]
     },
     "execution_count": 6,
     "metadata": {},
     "output_type": "execute_result"
    }
   ],
   "source": [
    "#梯度\n",
    "def gradient(theta,X,y):\n",
    "    m,n = X.shape\n",
    "    theta = theta.reshape(-1,1)\n",
    "    y_pre = sigmoid(np.dot(X,theta))\n",
    "    grad = np.dot(X.T,(y_pre-y))/m   # n*1的array\n",
    "    return grad.flatten()\n",
    "gradient(theta,X,y)"
   ]
  },
  {
   "cell_type": "code",
   "execution_count": 7,
   "metadata": {},
   "outputs": [
    {
     "name": "stdout",
     "output_type": "stream",
     "text": [
      "     fun: array([0.2034977])\n",
      "     jac: array([1.16974540e-07, 4.86313263e-07, 9.34508114e-09])\n",
      " message: 'Local minimum reached (|pg| ~= 0)'\n",
      "    nfev: 36\n",
      "     nit: 17\n",
      "  status: 0\n",
      " success: True\n",
      "       x: array([  0.20623159,   0.20147149, -25.16131852])\n"
     ]
    }
   ],
   "source": [
    "import scipy.optimize as op\n",
    "\n",
    "# 采用scipy优化库进行优化求解\n",
    "#需要注意的是，op.minimize()函数形参x0必须是一维的，jac的赋值也必须是一维的\n",
    "def soverOpt(X,y,theta):\n",
    "    result = op.minimize(fun=costFunction,x0=theta,args=(X,y),method='TNC',jac=gradient)\n",
    "    print(result)\n",
    "    return result\n",
    "\n",
    "result = soverOpt(X,y,theta)\n",
    "bestTheta = result['x']\n",
    "\n",
    "    \n"
   ]
  },
  {
   "cell_type": "code",
   "execution_count": 8,
   "metadata": {},
   "outputs": [
    {
     "data": {
      "image/png": "[encoded data removed]",
      "text/plain": [
       "<Figure size 432x288 with 1 Axes>"
      ]
     },
     "metadata": {
      "needs_background": "light"
     },
     "output_type": "display_data"
    }
   ],
   "source": [
    "# scipy 优化之后的结果可视化\n",
    "plotData(filePath,train=True,theta=bestTheta)"
   ]
  },
  {
   "cell_type": "markdown",
   "metadata": {},
   "source": [
    "# 2.非线性多维+正则化logistic regression"
   ]
  },
  {
   "cell_type": "code",
   "execution_count": 38,
   "metadata": {},
   "outputs": [
    {
     "data": {
      "image/png": "[encoded data removed]",
      "text/plain": [
       "<Figure size 432x288 with 1 Axes>"
      ]
     },
     "metadata": {
      "needs_background": "light"
     },
     "output_type": "display_data"
    }
   ],
   "source": [
    "def plotData(filePath,train=False,coord=None):\n",
    "    data = pd.read_csv(filePath,sep=',',names = ['x1','x2','target'])\n",
    "    gb = data.groupby(data.iloc[:,-1]) #利用groupby对数据集进行拆分\n",
    "    for category in list(gb):\n",
    "        label = category[0]\n",
    "        if label == 0:\n",
    "            name = 'y = 0'\n",
    "            shape = '.'\n",
    "        else:\n",
    "            name = 'y = 1'\n",
    "            shape = '+'\n",
    "        plt.scatter(category[1].iloc[:,0],category[1].iloc[:,1],marker=shape,label=name)\n",
    "    \n",
    "    if train == True:\n",
    "       plt.scatter(coord[0],coord[1],c='r')\n",
    "\n",
    "    plt.legend()\n",
    "    plt.xlabel('Microchip Test 1')\n",
    "    plt.ylabel('Microchip Test 2')\n",
    "    plt.show()\n",
    "    return None\n",
    "\n",
    "filePath = './ex2data2.txt'\n",
    "plotData(filePath)"
   ]
  },
  {
   "cell_type": "code",
   "execution_count": 10,
   "metadata": {},
   "outputs": [
    {
     "name": "stdout",
     "output_type": "stream",
     "text": [
      "featuremap之后的特征数量为:28\n"
     ]
    }
   ],
   "source": [
    "# 特征映射：相当于特征工程，扩充更高维的特征\n",
    "def featureMap(x1,x2,power):\n",
    "    mapData = {}\n",
    "    for i in range(power+1):\n",
    "        for j in range(i+1):\n",
    "            featureName = str(i-j)+str(j)\n",
    "            mapData[featureName] = np.power(x1,i-j)*np.power(x2,j)\n",
    "    mapData = pd.DataFrame(mapData)\n",
    "    return mapData\n",
    "\n",
    "data = pd.read_csv(filePath,sep=',',names = ['x1','x2','target'])\n",
    "x1 = data.iloc[:,0].values\n",
    "x2 = data.iloc[:,1].values\n",
    "X = featureMap(x1,x2,6).values\n",
    "print('featuremap之后的特征数量为:%d'%(X.shape[1]))"
   ]
  },
  {
   "cell_type": "code",
   "execution_count": 11,
   "metadata": {},
   "outputs": [],
   "source": [
    "#确定输入输出，以及初始化theta\n",
    "m,n = X.shape\n",
    "y = data.iloc[:,-1].values.reshape(-1,1)\n",
    "theta = np.zeros(n) #特征增广的时候已经考虑了偏差，所以不需要n+1\n"
   ]
  },
  {
   "cell_type": "code",
   "execution_count": 18,
   "metadata": {},
   "outputs": [
    {
     "data": {
      "text/plain": [
       "array([0.69314718])"
      ]
     },
     "execution_count": 18,
     "metadata": {},
     "output_type": "execute_result"
    }
   ],
   "source": [
    "#定义正则化损失函数\n",
    "def regularized_cost(theta,X,y,l=1):\n",
    "    regularized_term = l/(2*len(X))*np.power(theta,2).sum()\n",
    "    return costFunction(theta,X,y) + regularized_term\n",
    "\n",
    "regularized_cost(theta,X,y,l=1)"
   ]
  },
  {
   "cell_type": "code",
   "execution_count": 19,
   "metadata": {},
   "outputs": [
    {
     "data": {
      "text/plain": [
       "array([8.47457627e-03, 1.87880932e-02, 7.77711864e-05, 5.03446395e-02,\n",
       "       1.15013308e-02, 3.76648474e-02, 1.83559872e-02, 7.32393391e-03,\n",
       "       8.19244468e-03, 2.34764889e-02, 3.93486234e-02, 2.23923907e-03,\n",
       "       1.28600503e-02, 3.09593720e-03, 3.93028171e-02, 1.99707467e-02,\n",
       "       4.32983232e-03, 3.38643902e-03, 5.83822078e-03, 4.47629067e-03,\n",
       "       3.10079849e-02, 3.10312442e-02, 1.09740238e-03, 6.31570797e-03,\n",
       "       4.08503006e-04, 7.26504316e-03, 1.37646175e-03, 3.87936363e-02])"
      ]
     },
     "execution_count": 19,
     "metadata": {},
     "output_type": "execute_result"
    }
   ],
   "source": [
    "def regularized_gradient(theta,X,y,l=1):\n",
    "    regularized_term = l/len(X)*theta\n",
    "    return gradient(theta,X,y) + regularized_term\n",
    "\n",
    "regularized_gradient(theta,X,y,l=1)"
   ]
  },
  {
   "cell_type": "code",
   "execution_count": 21,
   "metadata": {},
   "outputs": [
    {
     "name": "stdout",
     "output_type": "stream",
     "text": [
      "     fun: 0.5351602503809717\n",
      "     jac: array([-1.65206180e-07,  6.01308072e-08,  5.31188789e-08,  1.94581444e-08,\n",
      "       -7.97916477e-09, -5.37931133e-09,  3.96246820e-08, -3.88767660e-09,\n",
      "        1.14144651e-08,  2.65413214e-08,  5.46605770e-09, -5.62589441e-09,\n",
      "       -1.24358249e-08, -2.91165623e-10,  2.65704870e-08,  2.12644674e-08,\n",
      "       -2.01137884e-09,  1.72451202e-09,  7.01991187e-10,  6.83574239e-09,\n",
      "        3.51805565e-08,  1.89916695e-08, -1.05574591e-10,  1.12815176e-09,\n",
      "       -3.33387335e-09,  3.04989620e-09, -2.22659818e-09,  2.37569564e-08])\n",
      " message: 'Optimization terminated successfully.'\n",
      "    nfev: 7\n",
      "    nhev: 0\n",
      "     nit: 6\n",
      "    njev: 55\n",
      "  status: 0\n",
      " success: True\n",
      "       x: array([ 1.14213474,  0.60132002,  1.16718293, -1.87174431, -0.91573524,\n",
      "       -1.26952958,  0.12668379, -0.36873129, -0.3451837 , -0.17377669,\n",
      "       -1.42386065, -0.04855688, -0.60642101, -0.26931887, -1.1631591 ,\n",
      "       -0.24310171, -0.20707385, -0.04318437, -0.28028123, -0.28695557,\n",
      "       -0.46910439, -1.03617988,  0.02923499, -0.29262232,  0.0173668 ,\n",
      "       -0.32897229, -0.13795913, -0.93198976])\n"
     ]
    }
   ],
   "source": [
    "import scipy.optimize as op\n",
    "\n",
    "# 采用scipy优化库进行优化求解\n",
    "#需要注意的是，op.minimize()函数形参x0必须是一维的，jac的赋值也必须是一维的\n",
    "def regularized_solver(X,y,theta):\n",
    "    result = op.minimize(fun=regularized_cost,x0=theta,args=(X,y),method='Newton-CG',jac=regularized_gradient)\n",
    "    print(result)\n",
    "    return result\n",
    "\n",
    "result = regularized_solver(X,y,theta)\n",
    "bestTheta = result['x']"
   ]
  },
  {
   "cell_type": "markdown",
   "metadata": {},
   "source": [
    "## 3.可视化决策边界"
   ]
  },
  {
   "cell_type": "code",
   "execution_count": 33,
   "metadata": {},
   "outputs": [],
   "source": [
    "def feature_mapped_logistic_regression(power,l):\n",
    "    data = pd.read_csv('./ex2data2.txt',sep=',',names = ['x1','x2','target'])\n",
    "    x1 = data.iloc[:,0].values\n",
    "    x2 = data.iloc[:,1].values\n",
    "    X = featureMap(x1,x2,power).values\n",
    "    m,n = X.shape\n",
    "    y = data.iloc[:,-1].values.reshape(-1,1)\n",
    "    theta = np.zeros(n)\n",
    "    result = op.minimize(fun=regularized_cost,x0=theta,args=(X,y,l),method='Newton-CG',jac=regularized_gradient)\n",
    "    return result['x']\n",
    "\n",
    "theta1 = feature_mapped_logistic_regression(6,1)\n",
    "\n",
    "    \n",
    "\n"
   ]
  },
  {
   "cell_type": "code",
   "execution_count": 37,
   "metadata": {},
   "outputs": [
    {
     "data": {
      "text/plain": [
       "(array([-0.64646465, -0.24242424,  0.16161616,  0.71717172]),\n",
       " array([ 0.33838384, -0.44444444, -0.5959596 , -0.16666667]))"
      ]
     },
     "execution_count": 37,
     "metadata": {},
     "output_type": "execute_result"
    }
   ],
   "source": [
    "def find_decision_boundary(density, power, final_theta, threshhold):\n",
    "    x1 = np.linspace(-1, 1.5, density)\n",
    "    x2 = np.linspace(-1, 1.5, density)\n",
    "\n",
    "    cordinates = [(x, y) for x in x1 for y in x2]\n",
    "    x_cord, y_cord = zip(*cordinates)\n",
    "\n",
    "    mapped_cord = featureMap(x_cord, y_cord, power)\n",
    "    pred = np.dot(mapped_cord.values,final_theta) \n",
    "    result = mapped_cord[np.abs(pred) < threshhold]\n",
    "    return result['10'].values,result['01'].values\n",
    "\n",
    "find_decision_boundary(100,6,theta1,2 * 10**-3)\n",
    "    \n"
   ]
  },
  {
   "cell_type": "code",
   "execution_count": 40,
   "metadata": {},
   "outputs": [
    {
     "data": {
      "image/png": "[encoded data removed]",
      "text/plain": [
       "<Figure size 432x288 with 1 Axes>"
      ]
     },
     "metadata": {
      "needs_background": "light"
     },
     "output_type": "display_data"
    }
   ],
   "source": [
    "def draw_boundary(power,l):\n",
    "    density = 1000\n",
    "    threshhold = 2 * 10**-3\n",
    "    final_theta = feature_mapped_logistic_regression(power, l)\n",
    "    x, y = find_decision_boundary(density, power, final_theta, threshhold)\n",
    "    plotData('./ex2data2.txt',train=True,coord=(x,y))\n",
    "\n",
    "    return None\n",
    "\n",
    "draw_boundary(6,1) #刚刚好\n",
    "    "
   ]
  },
  {
   "cell_type": "code",
   "execution_count": 44,
   "metadata": {},
   "outputs": [
    {
     "data": {
      "image/png": "[encoded data removed]",
      "text/plain": [
       "<Figure size 432x288 with 1 Axes>"
      ]
     },
     "metadata": {
      "needs_background": "light"
     },
     "output_type": "display_data"
    }
   ],
   "source": [
    "draw_boundary(8,0) #惩罚系数为0，过拟合"
   ]
  },
  {
   "cell_type": "code",
   "execution_count": 42,
   "metadata": {},
   "outputs": [
    {
     "data": {
      "image/png": "[encoded data removed]",
      "text/plain": [
       "<Figure size 432x288 with 1 Axes>"
      ]
     },
     "metadata": {
      "needs_background": "light"
     },
     "output_type": "display_data"
    }
   ],
   "source": [
    "draw_boundary(6,100) #惩罚系数过大，欠拟合"
   ]
  },
  {
   "cell_type": "code",
   "execution_count": null,
   "metadata": {},
   "outputs": [],
   "source": []
  }
 ],
 "metadata": {
  "interpreter": {
   "hash": "10beb05de3dc99447179c3813fcfbebfa66d78d6ae2c13e80a2a44d4fa76153f"
  },
  "kernelspec": {
   "display_name": "Python 3.7.8 64-bit ('mathmodeling': conda)",
   "language": "python",
   "name": "python3"
  },
  "language_info": {
   "codemirror_mode": {
    "name": "ipython",
    "version": 3
   },
   "file_extension": ".py",
   "mimetype": "text/x-python",
   "name": "python",
   "nbconvert_exporter": "python",
   "pygments_lexer": "ipython3",
   "version": "3.7.8"
  },
  "orig_nbformat": 4
 },
 "nbformat": 4,
 "nbformat_minor": 2
}
